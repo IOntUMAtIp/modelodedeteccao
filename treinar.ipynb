{
 "cells": [
  {
   "cell_type": "code",
   "execution_count": null,
   "source": [
    "!pip install -q tensorflow==2.5.0\n",
    "!pip install -q tflite-model-maker\n",
    "!pip install -q pycocotools"
   ],
   "outputs": [],
   "metadata": {
    "collapsed": true
   }
  },
  {
   "cell_type": "code",
   "execution_count": null,
   "source": [
    "import numpy as np\n",
    "import os\n",
    "\n",
    "from tflite_model_maker.config import ExportFormat\n",
    "from tflite_model_maker import model_spec\n",
    "from tflite_model_maker import object_detector\n",
    "\n",
    "import tensorflow as tf\n",
    "assert tf.__version__.startswith('2')\n",
    "\n",
    "tf.get_logger().setLevel('ERROR')\n",
    "from absl import logging\n",
    "logging.set_verbosity(logging.ERROR)\n",
    "\n",
    "label_type = \"coco\"\n",
    "\n",
    "train_data = object_detector.DataLoader.from_pascal_voc(\"train\", \"train\", label_map = label_type)\n",
    "validation_data = object_detector.DataLoader.from_pascal_voc(\"valid\", \"valid\", label_map = label_type)\n",
    "test_data = object_detector.DataLoader.from_pascal_voc(\"test\", \"test\", label_map = label_type)\n",
    "\n",
    "spec = model_spec.get('efficientdet_lite0')\n",
    "\n",
    "model = object_detector.create(train_data, model_spec=model_spec.resnet_50_spec, batch_size=16, train_whole_model=True, validation_data=validation_data)\n",
    "\n",
    "loss, accuracy = model.evaluate(test_data)"
   ],
   "outputs": [],
   "metadata": {}
  }
 ],
 "metadata": {
  "kernelspec": {
   "name": "python3",
   "display_name": "Python 3.8.10 64-bit"
  },
  "language_info": {
   "name": "python",
   "version": "3.8.10",
   "mimetype": "text/x-python",
   "codemirror_mode": {
    "name": "ipython",
    "version": 3
   },
   "pygments_lexer": "ipython3",
   "nbconvert_exporter": "python",
   "file_extension": ".py"
  },
  "interpreter": {
   "hash": "916dbcbb3f70747c44a77c7bcd40155683ae19c65e1c03b4aa3499c5328201f1"
  }
 },
 "nbformat": 4,
 "nbformat_minor": 2
}